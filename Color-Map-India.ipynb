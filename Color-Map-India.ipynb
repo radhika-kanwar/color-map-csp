{
 "cells": [
  {
   "cell_type": "markdown",
   "id": "dedf116e",
   "metadata": {},
   "source": [
    "# Color Map of India using the Constraint Satisfaction Problem"
   ]
  },
  {
   "cell_type": "markdown",
   "id": "83e947b4",
   "metadata": {},
   "source": [
    "A Constraint Satisfaction Problem (CSP) implementation to color the states and union territories of India on a map using GeoPandas, Matplotlib, and Shapely. The project ensures that no two adjacent states share the same color."
   ]
  },
  {
   "cell_type": "code",
   "execution_count": 1,
   "id": "68f26b21",
   "metadata": {},
   "outputs": [],
   "source": [
    "class CSP:\n",
    "    def __init__(self, variables, domains, constraints):\n",
    "        self.variables = variables\n",
    "        self.domains = domains\n",
    "        self.constraints = constraints\n",
    "        self.solution = None\n",
    "\n",
    "    def solve(self):\n",
    "        assignment = {}\n",
    "        self.solution = self.backtrack(assignment)\n",
    "        return self.solution\n",
    "\n",
    "    def backtrack(self, assignment):\n",
    "        if len(assignment) == len(self.variables):\n",
    "            return assignment\n",
    "\n",
    "        var = self.select_unassigned_variable(assignment)\n",
    "        for value in self.order_domain_values(var, assignment):\n",
    "            if self.is_consistent(var, value, assignment):\n",
    "                assignment[var] = value\n",
    "                result = self.backtrack(assignment)\n",
    "                if result is not None:\n",
    "                    return result\n",
    "                del assignment[var]\n",
    "        return None\n",
    "\n",
    "    def select_unassigned_variable(self, assignment):\n",
    "        unassigned_vars = [var for var in self.variables if var not in assignment]\n",
    "        return min(unassigned_vars, key=lambda var: len(self.domains[var]))\n",
    "\n",
    "    def order_domain_values(self, var, assignment):\n",
    "        return self.domains[var]\n",
    "\n",
    "    def is_consistent(self, var, value, assignment):\n",
    "        for constraint_var in self.constraints[var]:\n",
    "            if constraint_var in assignment and assignment[constraint_var] == value:\n",
    "                return False\n",
    "        return True"
   ]
  },
  {
   "cell_type": "code",
   "execution_count": 11,
   "id": "81debb9c",
   "metadata": {},
   "outputs": [],
   "source": [
    "# Defining the variables i.e Indian states and Union Territories\n",
    "variables = ['Andhra Pradesh', 'Arunachal Pradesh', 'Assam', 'Bihar', 'Chhattisgarh', 'Goa', \n",
    "             'Gujarat', 'Haryana', 'Himachal Pradesh', 'Jharkhand', 'Karnataka', 'Kerala',\n",
    "             'Madhya Pradesh', 'Maharashtra', 'Manipur', 'Meghalaya', 'Mizoram', 'Nagaland',\n",
    "             'Odisha', 'Punjab', 'Rajasthan', 'Sikkim', 'Tamil Nadu', 'Telangana', 'Tripura',\n",
    "             'Uttar Pradesh', 'Uttarakhand', 'West Bengal', 'Andaman and Nicobar Islands', \n",
    "             'Chandigarh', 'Dadra and Nagar Haveli and Daman and Diu', 'Lakshadweep', 'Delhi', \n",
    "             'Puducherry', 'Jammu and Kashmir', 'Ladakh']\n",
    "\n",
    "# Defining the domains i.e. the colors\n",
    "domains = {var: ['SkyBlue', 'LightGreen', 'darkorange', 'Lavender'] for var in variables}\n",
    "\n",
    "# Defining the constraints (adjacency)\n",
    "constraints = {\n",
    "    'Andhra Pradesh': ['Tamil Nadu', 'Karnataka', 'Telangana', 'Chhattisgarh', 'Odisha'],\n",
    "    'Arunachal Pradesh': ['Assam', 'Nagaland'],\n",
    "    'Assam': ['Arunachal Pradesh', 'West Bengal','Meghalaya','Nagaland', 'Manipur', 'West Bengal','Tripura','Mizoram'],\n",
    "    'Bihar': ['Uttar Pradesh', 'Jharkhand', 'West Bengal'],\n",
    "    'Chhattisgarh': ['Madhya Pradesh', 'Odisha', 'Jharkhand', 'Maharashtra','Uttar Pradesh','Andhra Pradesh'],\n",
    "    'Goa': ['Maharashtra', 'Karnataka'],\n",
    "    'Gujarat': ['Maharashtra', 'Rajasthan'],\n",
    "    'Haryana': ['Punjab', 'Uttar Pradesh', 'Rajasthan','Uttarakhand'],\n",
    "    'Himachal Pradesh': ['Punjab', 'Uttarakhand', 'Haryana'],\n",
    "    'Jharkhand': ['Bihar', 'Odisha', 'Chhattisgarh', 'West Bengal','Uttar Pradesh'],\n",
    "    'Karnataka': ['Maharashtra', 'Goa', 'Andhra Pradesh', 'Telangana' 'Tamil Nadu'],\n",
    "    'Kerala': ['Tamil Nadu', 'Karnataka'],\n",
    "    'Madhya Pradesh': ['Maharashtra', 'Gujarat', 'Chhattisgarh', 'Uttar Pradesh'],\n",
    "    'Maharashtra': ['Gujarat', 'Madhya Pradesh', 'Goa', 'Karnataka','Chhattisgarh'],\n",
    "    'Manipur': ['Assam', 'Nagaland'],\n",
    "    'Meghalaya': ['Assam', 'Nagaland'],\n",
    "    'Mizoram': ['Manipur', 'Tripura','Assam'],\n",
    "    'Nagaland': ['Manipur', 'Assam', 'Arunachal Pradesh'],\n",
    "    'Odisha': ['West Bengal', 'Chhattisgarh', 'Jharkhand', 'Andhra Pradesh'],\n",
    "    'Punjab': ['Haryana', 'Himachal Pradesh', 'Uttar Pradesh','Rajasthan'],\n",
    "    'Rajasthan': ['Gujarat', 'Madhya Pradesh', 'Haryana','Uttar Pradesh','Punjab'],\n",
    "    'Sikkim': ['West Bengal'],\n",
    "    'Tamil Nadu': ['Karnataka', 'Andhra Pradesh', 'Kerala'],\n",
    "    'Telangana': ['Maharashtra', 'Andhra Pradesh', 'Chhattisgarh','Karnataka'],\n",
    "    'Tripura': ['Assam', 'Mizoram'],\n",
    "    'Uttar Pradesh': ['Bihar', 'Madhya Pradesh', 'Haryana', 'Delhi', 'Uttarakhand','Rajasthan','Chhattisgarh','Jharkhand'],\n",
    "    'Uttarakhand': ['Himachal Pradesh', 'Uttar Pradesh','Haryana'],\n",
    "    'West Bengal': ['Assam', 'Bihar', 'Sikkim', 'Jharkhand','Odisha'],\n",
    "    'Andaman and Nicobar Islands': [],\n",
    "    'Chandigarh': ['Punjab', 'Haryana'],\n",
    "    'Dadra and Nagar Haveli and Daman and Diu': ['Gujarat'],\n",
    "    'Lakshadweep': [],\n",
    "    'Delhi': ['Uttar Pradesh', 'Haryana', 'Rajasthan'],\n",
    "    'Puducherry': ['Tamil Nadu'],\n",
    "    'Jammu and Kashmir': ['Himachal Pradesh', 'Punjab', 'Haryana'],\n",
    "    'Ladakh':['Jammu and Kashmir', 'Himachal Pradesh']\n",
    "}"
   ]
  },
  {
   "cell_type": "code",
   "execution_count": 12,
   "id": "65c536d5",
   "metadata": {},
   "outputs": [],
   "source": [
    "# Creating the CSP instance using the initialized variables\n",
    "csp = CSP(variables, domains, constraints)\n",
    "\n",
    "# Solving the problem by calling the solve function \n",
    "solution = csp.solve()"
   ]
  },
  {
   "cell_type": "code",
   "execution_count": 13,
   "id": "2948435d",
   "metadata": {},
   "outputs": [
    {
     "data": {
      "image/png": "[encoded data removed]",
      "text/plain": [
       "<Figure size 640x480 with 1 Axes>"
      ]
     },
     "metadata": {},
     "output_type": "display_data"
    }
   ],
   "source": [
    "import geopandas as gpd\n",
    "import matplotlib.pyplot as plt\n",
    "from shapely.geometry import mapping\n",
    "\n",
    "# Loading the map of India\n",
    "gdf = gpd.read_file('geoBoundaries-IND-ADM1.geojson')\n",
    "\n",
    "# Preparing a color mapping based on the solution\n",
    "color_mapping = {}\n",
    "if solution:\n",
    "    for region, color in solution.items():\n",
    "        color_mapping[region] = color\n",
    "        \n",
    "color_list = []\n",
    "for state in gdf['shapeName']: \n",
    "    color_list.append(color_mapping.get(state, 'black'))  # Default color for unmapped regions\n",
    "\n",
    "gdf.plot(color=color_list)\n",
    "plt.title('Colored Map of India')\n",
    "plt.axis('off')\n",
    "plt.show()"
   ]
  },
  {
   "cell_type": "code",
   "execution_count": 14,
   "id": "d1560f86",
   "metadata": {},
   "outputs": [
    {
     "name": "stdout",
     "output_type": "stream",
     "text": [
      "Map saved as 'colored_map_of_india.html'.\n"
     ]
    }
   ],
   "source": [
    "import folium\n",
    "\n",
    "# Creating a folium map centered around India\n",
    "m = folium.Map(location=[20.5937, 78.9629], zoom_start=5)\n",
    "\n",
    "# Add colored states to the folium map\n",
    "for idx, row in gdf.iterrows():\n",
    "    state_name = row['shapeName']\n",
    "    state_color = color_mapping.get(state_name, 'black')  # Default to black if not found\n",
    "    geo_json = mapping(row['geometry'])\n",
    "    \n",
    "    # Adding state to the map with popup and color\n",
    "    folium.GeoJson(\n",
    "        geo_json,\n",
    "        style_function=lambda x, color=state_color: {\n",
    "            'fillColor': color,\n",
    "            'color': 'black',\n",
    "            'weight': 1.5,\n",
    "            'fillOpacity': 0.7\n",
    "        },\n",
    "        tooltip=state_name\n",
    "    ).add_to(m)\n",
    "\n",
    "m.save(\"colored_map_of_india.html\")\n",
    "print(\"Map saved as 'colored_map_of_india.html'.\")"
   ]
  },
  {
   "cell_type": "code",
   "execution_count": null,
   "id": "8be05389",
   "metadata": {},
   "outputs": [],
   "source": []
  }
 ],
 "metadata": {
  "kernelspec": {
   "display_name": "Python 3 (ipykernel)",
   "language": "python",
   "name": "python3"
  },
  "language_info": {
   "codemirror_mode": {
    "name": "ipython",
    "version": 3
   },
   "file_extension": ".py",
   "mimetype": "text/x-python",
   "name": "python",
   "nbconvert_exporter": "python",
   "pygments_lexer": "ipython3",
   "version": "3.11.5"
  }
 },
 "nbformat": 4,
 "nbformat_minor": 5
}
